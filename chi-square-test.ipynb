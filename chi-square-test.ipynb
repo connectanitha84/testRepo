{
 "cells": [
  {
   "cell_type": "markdown",
   "id": "507612ca",
   "metadata": {},
   "source": [
    "This test is used when two categorized variables are from the same population. \n",
    "Its purpose is to decide if the two elements are significantly associated.\n",
    "\n",
    "For example, we may group people in an election campaign survey based on their \n",
    "preferred method of voting and gender (male or female) (Democratic, Republican, or Independent). \n",
    "To determine if gender affects voting choice, we may apply a chi-square test evaluating independence."
   ]
  },
  {
   "cell_type": "code",
   "execution_count": 2,
   "id": "58e4f0e4",
   "metadata": {},
   "outputs": [
    {
     "name": "stdout",
     "output_type": "stream",
     "text": [
      "The p-value of our test is 1.4585823594475804e-06\n",
      "We can reject the null hypothesis\n"
     ]
    }
   ],
   "source": [
    "#  Python program to perform a chi-square test  \n",
    "  \n",
    "# Importing the required modules  \n",
    "from scipy.stats import chi2_contingency  \n",
    "    \n",
    "# defining our data  \n",
    "data = [[231, 256, 321], [245, 312, 213]]  \n",
    "  \n",
    "# Performing chi-square test  \n",
    "test, p_val, dof, expected_val = chi2_contingency(data)  \n",
    "    \n",
    "# interpreting the p-value  \n",
    "alpha = 0.05  \n",
    "print(\"The p-value of our test is \" + str(p_val))  \n",
    "  \n",
    "# Checking the hypothesis  \n",
    "if p_val <= alpha:  \n",
    "    print('We can reject the null hypothesis')  \n",
    "else:  \n",
    "    print('We can accept the null hypothesis')  "
   ]
  },
  {
   "cell_type": "code",
   "execution_count": null,
   "id": "c9721d8e",
   "metadata": {},
   "outputs": [],
   "source": []
  },
  {
   "cell_type": "code",
   "execution_count": null,
   "id": "12abceb1",
   "metadata": {},
   "outputs": [],
   "source": []
  }
 ],
 "metadata": {
  "kernelspec": {
   "display_name": "Python 3 (ipykernel)",
   "language": "python",
   "name": "python3"
  },
  "language_info": {
   "codemirror_mode": {
    "name": "ipython",
    "version": 3
   },
   "file_extension": ".py",
   "mimetype": "text/x-python",
   "name": "python",
   "nbconvert_exporter": "python",
   "pygments_lexer": "ipython3",
   "version": "3.9.12"
  }
 },
 "nbformat": 4,
 "nbformat_minor": 5
}
