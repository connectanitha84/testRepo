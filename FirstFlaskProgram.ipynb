{
 "cells": [
  {
   "cell_type": "code",
   "execution_count": null,
   "id": "486f3d1e",
   "metadata": {},
   "outputs": [],
   "source": [
    "from flask import Flask\n",
    "myapp = Flask(__name__)\n",
    "\n",
    "@myapp.route('/')\n",
    "def index():\n",
    "    return 'hello! I am testing first file'\n",
    "# Add this line\n",
    "myapp.run()"
   ]
  },
  {
   "cell_type": "code",
   "execution_count": null,
   "id": "35039e66",
   "metadata": {},
   "outputs": [],
   "source": []
  },
  {
   "cell_type": "code",
   "execution_count": null,
   "id": "443f6b9c",
   "metadata": {},
   "outputs": [],
   "source": [
    "import pickle\n",
    "example_dict={a:\"aaa\",b:\"bbb\",c:\"cccc\",d:\"dddd\"}\n",
    "pickle_out=open(\"dict.pickle\",\"wb\")\n",
    "pickle_dump(example_dict,pickle_out)\n",
    "pickle_out.close()"
   ]
  },
  {
   "cell_type": "code",
   "execution_count": null,
   "id": "881bc5b2",
   "metadata": {},
   "outputs": [],
   "source": []
  },
  {
   "cell_type": "code",
   "execution_count": null,
   "id": "2a1f7db6",
   "metadata": {},
   "outputs": [],
   "source": []
  },
  {
   "cell_type": "code",
   "execution_count": null,
   "id": "eda54799",
   "metadata": {},
   "outputs": [],
   "source": []
  },
  {
   "cell_type": "code",
   "execution_count": null,
   "id": "c060a40f",
   "metadata": {},
   "outputs": [],
   "source": []
  }
 ],
 "metadata": {
  "kernelspec": {
   "display_name": "Python 3 (ipykernel)",
   "language": "python",
   "name": "python3"
  },
  "language_info": {
   "codemirror_mode": {
    "name": "ipython",
    "version": 3
   },
   "file_extension": ".py",
   "mimetype": "text/x-python",
   "name": "python",
   "nbconvert_exporter": "python",
   "pygments_lexer": "ipython3",
   "version": "3.9.7"
  }
 },
 "nbformat": 4,
 "nbformat_minor": 5
}
